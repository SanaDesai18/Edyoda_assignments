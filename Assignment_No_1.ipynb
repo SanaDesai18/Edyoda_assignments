{
 "cells": [
  {
   "cell_type": "markdown",
   "id": "b8b73c51",
   "metadata": {},
   "source": [
    "QUESTION_NO_1"
   ]
  },
  {
   "cell_type": "code",
   "execution_count": 28,
   "id": "d7aef58c",
   "metadata": {},
   "outputs": [
    {
     "name": "stdout",
     "output_type": "stream",
     "text": [
      "How many terms? 5\n",
      "Fibonacci sequence:\n",
      "0\n",
      "1\n",
      "1\n",
      "2\n",
      "3\n"
     ]
    }
   ],
   "source": [
    "num= int(input(\"How many terms? \"))\n",
    "\n",
    "n1, n2 = 0, 1\n",
    "count = 0\n",
    "\n",
    "if num<= 0:\n",
    "    print(\"Please enter a positive integer\")\n",
    "elif num == 1:\n",
    "    print(\"Fibonacci sequence upto\",nterms,\":\")\n",
    "    print(n1)\n",
    "else:\n",
    "    print(\"Fibonacci sequence:\")\n",
    "while count < num:\n",
    "    print(n1)\n",
    "    nth = n1 + n2\n",
    "    n1 = n2\n",
    "    n2 = nth\n",
    "    count += 1"
   ]
  },
  {
   "cell_type": "markdown",
   "id": "8a66d010",
   "metadata": {},
   "source": [
    "QUESTION_NO_2"
   ]
  },
  {
   "cell_type": "code",
   "execution_count": 7,
   "id": "126907b7",
   "metadata": {},
   "outputs": [
    {
     "name": "stdout",
     "output_type": "stream",
     "text": [
      "Edyoda\n",
      "a d o y d E "
     ]
    }
   ],
   "source": [
    "word=input()\n",
    "for i in range(len(word)-1,-1,-1):\n",
    "    print(word[i],end=' ')"
   ]
  },
  {
   "cell_type": "markdown",
   "id": "01917982",
   "metadata": {},
   "source": [
    "QUESTION_NO_3"
   ]
  },
  {
   "cell_type": "code",
   "execution_count": 1,
   "id": "c55d514f",
   "metadata": {
    "scrolled": true
   },
   "outputs": [
    {
     "name": "stdout",
     "output_type": "stream",
     "text": [
      "Enter the numbers: 123456789\n",
      "number of even:  4\n",
      "number of odd:  5\n"
     ]
    }
   ],
   "source": [
    "n = int(input('Enter the numbers: '))\n",
    "even_count=0\n",
    "odd_count=0\n",
    "while n>0:\n",
    "    if n%2==0:\n",
    "        even_count +=1\n",
    "        n = n//10\n",
    "    else:\n",
    "        odd_count +=1\n",
    "        n = n//10\n",
    "\n",
    "print(\"number of even: \",even_count)\n",
    "print(\"number of odd: \",odd_count)"
   ]
  },
  {
   "cell_type": "code",
   "execution_count": null,
   "id": "9821843d",
   "metadata": {},
   "outputs": [],
   "source": []
  }
 ],
 "metadata": {
  "kernelspec": {
   "display_name": "Python 3 (ipykernel)",
   "language": "python",
   "name": "python3"
  },
  "language_info": {
   "codemirror_mode": {
    "name": "ipython",
    "version": 3
   },
   "file_extension": ".py",
   "mimetype": "text/x-python",
   "name": "python",
   "nbconvert_exporter": "python",
   "pygments_lexer": "ipython3",
   "version": "3.9.13"
  }
 },
 "nbformat": 4,
 "nbformat_minor": 5
}
