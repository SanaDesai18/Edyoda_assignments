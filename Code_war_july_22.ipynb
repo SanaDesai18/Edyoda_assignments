{
 "cells": [
  {
   "cell_type": "markdown",
   "id": "093c76d1",
   "metadata": {},
   "source": [
    "Q-1 "
   ]
  },
  {
   "cell_type": "code",
   "execution_count": null,
   "id": "edb81276",
   "metadata": {},
   "outputs": [],
   "source": [
    "def _sum(arr, n):\n",
    "    return(sum(arr))\n",
    "arr = []\n",
    "arr = [1,2,3,4]\n",
    "n = len(arr)\n",
    "\n",
    "ans = _sum(arr, n)\n",
    "print('Sum of the array is ', ans)"
   ]
  },
  {
   "cell_type": "markdown",
   "id": "50d67c3b",
   "metadata": {},
   "source": [
    "Q-2"
   ]
  },
  {
   "cell_type": "code",
   "execution_count": null,
   "id": "589e468f",
   "metadata": {},
   "outputs": [],
   "source": [
    "n = int(input('Enter the no: '))\n",
    "def digitSum(n) :\n",
    "    summation = 0\n",
    "    while n>0:\n",
    "        b = n%10\n",
    "        summation = summation+b\n",
    "        n = n//10\n",
    "        return summation;\n",
    "\n",
    "def isPalindrome(n):\n",
    "    divisor = 1\n",
    "    while (n / divisor >= 10):\n",
    "        divisor *= 10\n",
    " \n",
    "    while (n != 0):\n",
    "         \n",
    "        leading = n // divisor\n",
    "        trailing = n % 10\n",
    "        if (leading != trailing):\n",
    "            return False\n",
    "        n = (n % divisor)//10\n",
    "        divisor = divisor/100\n",
    "         \n",
    "    return True\n",
    "\n",
    "def isDigitSumPalindrome(n) :\n",
    "    summation = digitSum(n);\n",
    "    if (isPalindrome(summation)) :\n",
    "        return True;\n",
    "    return False;\n",
    " \n",
    "if __name__ == \"__main__\" :\n",
    " \n",
    "    if (isDigitSumPalindrome(n)) :\n",
    "        print(\"1\");\n",
    "    else :\n",
    "        print(\"0\");"
   ]
  },
  {
   "cell_type": "markdown",
   "id": "78863679",
   "metadata": {},
   "source": [
    "Q-3"
   ]
  },
  {
   "cell_type": "code",
   "execution_count": null,
   "id": "b7ecefe3",
   "metadata": {},
   "outputs": [],
   "source": [
    "n = int(input('Enter the no: '))\n",
    "def isPalindrome(n):\n",
    "    divisor = 1\n",
    "    while (n / divisor >= 10):\n",
    "        divisor *= 10\n",
    " \n",
    "    while (n != 0):\n",
    "         \n",
    "        leading = n // divisor\n",
    "        trailing = n % 10\n",
    "        if (leading != trailing):\n",
    "            return False\n",
    "        n = (n % divisor)//10\n",
    "        divisor = divisor/100\n",
    "         \n",
    "    return True\n",
    "if(isPalindrome(n)):\n",
    "    print('Yes')\n",
    "else:\n",
    "    print('No')"
   ]
  },
  {
   "cell_type": "code",
   "execution_count": null,
   "id": "20dceb16",
   "metadata": {},
   "outputs": [],
   "source": []
  }
 ],
 "metadata": {
  "kernelspec": {
   "display_name": "Python 3 (ipykernel)",
   "language": "python",
   "name": "python3"
  },
  "language_info": {
   "codemirror_mode": {
    "name": "ipython",
    "version": 3
   },
   "file_extension": ".py",
   "mimetype": "text/x-python",
   "name": "python",
   "nbconvert_exporter": "python",
   "pygments_lexer": "ipython3",
   "version": "3.9.13"
  }
 },
 "nbformat": 4,
 "nbformat_minor": 5
}
