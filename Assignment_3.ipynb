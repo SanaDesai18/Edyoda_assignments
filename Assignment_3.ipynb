{
 "cells": [
  {
   "cell_type": "markdown",
   "id": "e8d06a11",
   "metadata": {},
   "source": [
    "Q-1"
   ]
  },
  {
   "cell_type": "code",
   "execution_count": 48,
   "id": "e7e40c6d",
   "metadata": {},
   "outputs": [
    {
     "name": "stdout",
     "output_type": "stream",
     "text": [
      "Enter the list: 82307\n",
      "20\n"
     ]
    }
   ],
   "source": [
    "def summation(n):\n",
    "    s = 0\n",
    "    while n>0:\n",
    "        a = n%10\n",
    "        s = s+a\n",
    "        n = n//10\n",
    "    return s\n",
    "\n",
    "lst = int(input('Enter the list: '))\n",
    "Sum = summation(lst)\n",
    "print(Sum)"
   ]
  },
  {
   "cell_type": "markdown",
   "id": "489abf19",
   "metadata": {},
   "source": [
    "Q-2"
   ]
  },
  {
   "cell_type": "code",
   "execution_count": 46,
   "id": "e54a9de0",
   "metadata": {},
   "outputs": [
    {
     "name": "stdout",
     "output_type": "stream",
     "text": [
      "Enter the string: 1234abcd\n",
      "dcba4321\n"
     ]
    }
   ],
   "source": [
    "def reverse(word):\n",
    "    reverse = ''\n",
    "    i = len(word)\n",
    "    while i > 0:\n",
    "        reverse += word[ i - 1 ]\n",
    "        i = i - 1\n",
    "    return reverse\n",
    "\n",
    "str1 = (input('Enter the string: '))\n",
    "Reversed = reverse(str1)\n",
    "print(Reversed)"
   ]
  },
  {
   "cell_type": "markdown",
   "id": "b2a5f075",
   "metadata": {},
   "source": [
    "Q-3"
   ]
  },
  {
   "cell_type": "code",
   "execution_count": 45,
   "id": "d1b4614b",
   "metadata": {},
   "outputs": [
    {
     "name": "stdout",
     "output_type": "stream",
     "text": [
      "Enter the string: The quick Brow Fox\n",
      "{'upper': 3, 'lower': 12}\n"
     ]
    }
   ],
   "source": [
    "def upper_lower(str):\n",
    "    d = {'upper' : 0,'lower' : 0}\n",
    "    for i in str:\n",
    "        if i.isupper():\n",
    "            d['upper'] += 1\n",
    "        elif i.islower():\n",
    "            d['lower'] += 1\n",
    "        else:\n",
    "            pass\n",
    "    return (d)\n",
    "\n",
    "str1 = (input('Enter the string: '))\n",
    "count = upper_lower(str1)\n",
    "print(count)"
   ]
  },
  {
   "cell_type": "code",
   "execution_count": null,
   "id": "1cff2af8",
   "metadata": {},
   "outputs": [],
   "source": []
  }
 ],
 "metadata": {
  "kernelspec": {
   "display_name": "Python 3 (ipykernel)",
   "language": "python",
   "name": "python3"
  },
  "language_info": {
   "codemirror_mode": {
    "name": "ipython",
    "version": 3
   },
   "file_extension": ".py",
   "mimetype": "text/x-python",
   "name": "python",
   "nbconvert_exporter": "python",
   "pygments_lexer": "ipython3",
   "version": "3.9.13"
  }
 },
 "nbformat": 4,
 "nbformat_minor": 5
}
